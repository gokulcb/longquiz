{
  "nbformat": 4,
  "nbformat_minor": 0,
  "metadata": {
    "colab": {
      "provenance": []
    },
    "kernelspec": {
      "name": "python3",
      "display_name": "Python 3"
    },
    "language_info": {
      "name": "python"
    }
  },
  "cells": [
    {
      "cell_type": "markdown",
      "source": [
        "**Step 1: Google Colab Setup and Dask Environment Setup**"
      ],
      "metadata": {
        "id": "AveYQT_-rfg_"
      }
    },
    {
      "cell_type": "code",
      "execution_count": 1,
      "metadata": {
        "colab": {
          "base_uri": "https://localhost:8080/"
        },
        "id": "8BrRCIv-gf3X",
        "outputId": "0d14e9f2-ce61-48aa-bc1f-e06ceb7aadaf"
      },
      "outputs": [
        {
          "output_type": "stream",
          "name": "stdout",
          "text": [
            "Collecting dask-ml\n",
            "  Downloading dask_ml-2025.1.0-py3-none-any.whl.metadata (6.0 kB)\n",
            "Requirement already satisfied: scikit-learn in /usr/local/lib/python3.11/dist-packages (1.6.1)\n",
            "Requirement already satisfied: matplotlib in /usr/local/lib/python3.11/dist-packages (3.10.0)\n",
            "Requirement already satisfied: seaborn in /usr/local/lib/python3.11/dist-packages (0.13.2)\n",
            "Requirement already satisfied: pandas in /usr/local/lib/python3.11/dist-packages (2.2.2)\n",
            "Requirement already satisfied: numpy in /usr/local/lib/python3.11/dist-packages (2.0.2)\n",
            "Requirement already satisfied: nltk in /usr/local/lib/python3.11/dist-packages (3.9.1)\n",
            "Requirement already satisfied: dask[dataframe] in /usr/local/lib/python3.11/dist-packages (2024.12.1)\n",
            "Requirement already satisfied: click>=8.1 in /usr/local/lib/python3.11/dist-packages (from dask[dataframe]) (8.2.1)\n",
            "Requirement already satisfied: cloudpickle>=3.0.0 in /usr/local/lib/python3.11/dist-packages (from dask[dataframe]) (3.1.1)\n",
            "Requirement already satisfied: fsspec>=2021.09.0 in /usr/local/lib/python3.11/dist-packages (from dask[dataframe]) (2025.3.2)\n",
            "Requirement already satisfied: packaging>=20.0 in /usr/local/lib/python3.11/dist-packages (from dask[dataframe]) (24.2)\n",
            "Requirement already satisfied: partd>=1.4.0 in /usr/local/lib/python3.11/dist-packages (from dask[dataframe]) (1.4.2)\n",
            "Requirement already satisfied: pyyaml>=5.3.1 in /usr/local/lib/python3.11/dist-packages (from dask[dataframe]) (6.0.2)\n",
            "Requirement already satisfied: toolz>=0.10.0 in /usr/local/lib/python3.11/dist-packages (from dask[dataframe]) (0.12.1)\n",
            "Requirement already satisfied: importlib_metadata>=4.13.0 in /usr/local/lib/python3.11/dist-packages (from dask[dataframe]) (8.7.0)\n",
            "Requirement already satisfied: dask-expr<1.2,>=1.1 in /usr/local/lib/python3.11/dist-packages (from dask[dataframe]) (1.1.21)\n",
            "Collecting dask-glm>=0.2.0 (from dask-ml)\n",
            "  Downloading dask_glm-0.3.2-py2.py3-none-any.whl.metadata (1.5 kB)\n",
            "INFO: pip is looking at multiple versions of dask-ml to determine which version is compatible with other requirements. This could take a while.\n",
            "Collecting dask-ml\n",
            "  Downloading dask_ml-2024.4.4-py3-none-any.whl.metadata (5.9 kB)\n",
            "Requirement already satisfied: distributed>=2.4.0 in /usr/local/lib/python3.11/dist-packages (from dask-ml) (2024.12.1)\n",
            "Requirement already satisfied: multipledispatch>=0.4.9 in /usr/local/lib/python3.11/dist-packages (from dask-ml) (1.0.0)\n",
            "Requirement already satisfied: numba>=0.51.0 in /usr/local/lib/python3.11/dist-packages (from dask-ml) (0.60.0)\n",
            "Requirement already satisfied: scipy in /usr/local/lib/python3.11/dist-packages (from dask-ml) (1.15.3)\n",
            "Requirement already satisfied: joblib>=1.2.0 in /usr/local/lib/python3.11/dist-packages (from scikit-learn) (1.5.1)\n",
            "Requirement already satisfied: threadpoolctl>=3.1.0 in /usr/local/lib/python3.11/dist-packages (from scikit-learn) (3.6.0)\n",
            "Requirement already satisfied: contourpy>=1.0.1 in /usr/local/lib/python3.11/dist-packages (from matplotlib) (1.3.2)\n",
            "Requirement already satisfied: cycler>=0.10 in /usr/local/lib/python3.11/dist-packages (from matplotlib) (0.12.1)\n",
            "Requirement already satisfied: fonttools>=4.22.0 in /usr/local/lib/python3.11/dist-packages (from matplotlib) (4.58.4)\n",
            "Requirement already satisfied: kiwisolver>=1.3.1 in /usr/local/lib/python3.11/dist-packages (from matplotlib) (1.4.8)\n",
            "Requirement already satisfied: pillow>=8 in /usr/local/lib/python3.11/dist-packages (from matplotlib) (11.2.1)\n",
            "Requirement already satisfied: pyparsing>=2.3.1 in /usr/local/lib/python3.11/dist-packages (from matplotlib) (3.2.3)\n",
            "Requirement already satisfied: python-dateutil>=2.7 in /usr/local/lib/python3.11/dist-packages (from matplotlib) (2.9.0.post0)\n",
            "Requirement already satisfied: pytz>=2020.1 in /usr/local/lib/python3.11/dist-packages (from pandas) (2025.2)\n",
            "Requirement already satisfied: tzdata>=2022.7 in /usr/local/lib/python3.11/dist-packages (from pandas) (2025.2)\n",
            "Requirement already satisfied: regex>=2021.8.3 in /usr/local/lib/python3.11/dist-packages (from nltk) (2024.11.6)\n",
            "Requirement already satisfied: tqdm in /usr/local/lib/python3.11/dist-packages (from nltk) (4.67.1)\n",
            "Requirement already satisfied: pyarrow>=14.0.1 in /usr/local/lib/python3.11/dist-packages (from dask-expr<1.2,>=1.1->dask[dataframe]) (18.1.0)\n",
            "Collecting sparse>=0.7.0 (from dask-glm>=0.2.0->dask-ml)\n",
            "  Downloading sparse-0.17.0-py2.py3-none-any.whl.metadata (5.3 kB)\n",
            "Requirement already satisfied: jinja2>=2.10.3 in /usr/local/lib/python3.11/dist-packages (from distributed>=2.4.0->dask-ml) (3.1.6)\n",
            "Requirement already satisfied: locket>=1.0.0 in /usr/local/lib/python3.11/dist-packages (from distributed>=2.4.0->dask-ml) (1.0.0)\n",
            "Requirement already satisfied: msgpack>=1.0.2 in /usr/local/lib/python3.11/dist-packages (from distributed>=2.4.0->dask-ml) (1.1.1)\n",
            "Requirement already satisfied: psutil>=5.8.0 in /usr/local/lib/python3.11/dist-packages (from distributed>=2.4.0->dask-ml) (5.9.5)\n",
            "Requirement already satisfied: sortedcontainers>=2.0.5 in /usr/local/lib/python3.11/dist-packages (from distributed>=2.4.0->dask-ml) (2.4.0)\n",
            "Requirement already satisfied: tblib>=1.6.0 in /usr/local/lib/python3.11/dist-packages (from distributed>=2.4.0->dask-ml) (3.1.0)\n",
            "Requirement already satisfied: tornado>=6.2.0 in /usr/local/lib/python3.11/dist-packages (from distributed>=2.4.0->dask-ml) (6.4.2)\n",
            "Requirement already satisfied: urllib3>=1.26.5 in /usr/local/lib/python3.11/dist-packages (from distributed>=2.4.0->dask-ml) (2.4.0)\n",
            "Requirement already satisfied: zict>=3.0.0 in /usr/local/lib/python3.11/dist-packages (from distributed>=2.4.0->dask-ml) (3.0.0)\n",
            "Requirement already satisfied: zipp>=3.20 in /usr/local/lib/python3.11/dist-packages (from importlib_metadata>=4.13.0->dask[dataframe]) (3.23.0)\n",
            "Requirement already satisfied: llvmlite<0.44,>=0.43.0dev0 in /usr/local/lib/python3.11/dist-packages (from numba>=0.51.0->dask-ml) (0.43.0)\n",
            "Requirement already satisfied: six>=1.5 in /usr/local/lib/python3.11/dist-packages (from python-dateutil>=2.7->matplotlib) (1.17.0)\n",
            "Requirement already satisfied: MarkupSafe>=2.0 in /usr/local/lib/python3.11/dist-packages (from jinja2>=2.10.3->distributed>=2.4.0->dask-ml) (3.0.2)\n",
            "Downloading dask_ml-2024.4.4-py3-none-any.whl (149 kB)\n",
            "\u001b[2K   \u001b[90m━━━━━━━━━━━━━━━━━━━━━━━━━━━━━━━━━━━━━━━━\u001b[0m \u001b[32m149.8/149.8 kB\u001b[0m \u001b[31m2.6 MB/s\u001b[0m eta \u001b[36m0:00:00\u001b[0m\n",
            "\u001b[?25hDownloading dask_glm-0.3.2-py2.py3-none-any.whl (13 kB)\n",
            "Downloading sparse-0.17.0-py2.py3-none-any.whl (259 kB)\n",
            "\u001b[2K   \u001b[90m━━━━━━━━━━━━━━━━━━━━━━━━━━━━━━━━━━━━━━━━\u001b[0m \u001b[32m259.4/259.4 kB\u001b[0m \u001b[31m9.2 MB/s\u001b[0m eta \u001b[36m0:00:00\u001b[0m\n",
            "\u001b[?25hInstalling collected packages: sparse, dask-glm, dask-ml\n",
            "Successfully installed dask-glm-0.3.2 dask-ml-2024.4.4 sparse-0.17.0\n"
          ]
        }
      ],
      "source": [
        "# Install necessary libraries\n",
        "!pip install dask[dataframe] dask-ml scikit-learn matplotlib seaborn pandas numpy nltk"
      ]
    },
    {
      "cell_type": "markdown",
      "source": [
        "**Step 2: Dataset Selection (Synthetic Large Text Dataset)**\n",
        "\n",
        "Setting up a Dask client and create a synthetic dataset"
      ],
      "metadata": {
        "id": "9PnndyAmrtzk"
      }
    },
    {
      "cell_type": "code",
      "source": [
        "from dask.distributed import Client, LocalCluster\n",
        "import dask.dataframe as dd\n",
        "import dask.array as da\n",
        "import pandas as pd\n",
        "import numpy as np\n",
        "import time\n",
        "import matplotlib.pyplot as plt\n",
        "import seaborn as sns\n",
        "from sklearn.model_selection import train_test_split\n",
        "from sklearn.metrics import accuracy_score, classification_report\n",
        "from sklearn.linear_model import SGDClassifier # Scikit-learn's incremental learner\n",
        "from sklearn.feature_extraction.text import TfidfVectorizer, HashingVectorizer # For traditional text processing\n",
        "\n",
        "# Dask-ML specific imports\n",
        "import dask_ml.feature_extraction.text as dm_text\n",
        "import dask_ml.wrappers as dm_wrappers # For incremental learning\n",
        "from dask_ml.model_selection import train_test_split as dask_train_test_split\n",
        "\n",
        "import nltk\n",
        "from nltk.corpus import stopwords\n",
        "from nltk.tokenize import word_tokenize\n",
        "import string\n",
        "\n",
        "# Download NLTK data (stopwords for text preprocessing)\n",
        "nltk.download('punkt')\n",
        "nltk.download('stopwords')\n",
        "\n",
        "# Create a local Dask cluster with default settings\n",
        "cluster = LocalCluster()\n",
        "client = Client(cluster)\n",
        "\n",
        "# Wait for Dask workers to be ready\n",
        "print(\"Waiting for Dask workers to start...\")\n",
        "client.wait_for_workers(n_workers=cluster.processes, timeout=60) # Specify the number of workers\n",
        "print(\"Dask workers ready.\")\n",
        "\n",
        "print(\"Dask Dashboard Link:\", client.dashboard_link)"
      ],
      "metadata": {
        "colab": {
          "base_uri": "https://localhost:8080/"
        },
        "id": "Sf2tWW9PhVm8",
        "outputId": "0623c513-34d0-4037-fe91-ba4a6180d97b"
      },
      "execution_count": 3,
      "outputs": [
        {
          "output_type": "stream",
          "name": "stderr",
          "text": [
            "[nltk_data] Downloading package punkt to /root/nltk_data...\n",
            "[nltk_data]   Package punkt is already up-to-date!\n",
            "[nltk_data] Downloading package stopwords to /root/nltk_data...\n",
            "[nltk_data]   Package stopwords is already up-to-date!\n",
            "/usr/local/lib/python3.11/dist-packages/distributed/node.py:187: UserWarning: Port 8787 is already in use.\n",
            "Perhaps you already have a cluster running?\n",
            "Hosting the HTTP server on port 36457 instead\n",
            "  warnings.warn(\n",
            "INFO:distributed.scheduler:State start\n",
            "INFO:distributed.scheduler:  Scheduler at:     tcp://127.0.0.1:43593\n",
            "INFO:distributed.scheduler:  dashboard at:  http://127.0.0.1:36457/status\n",
            "INFO:distributed.scheduler:Registering Worker plugin shuffle\n",
            "INFO:distributed.nanny:        Start Nanny at: 'tcp://127.0.0.1:39753'\n",
            "INFO:distributed.nanny:        Start Nanny at: 'tcp://127.0.0.1:43187'\n",
            "INFO:distributed.scheduler:Register worker addr: tcp://127.0.0.1:46551 name: 1\n",
            "INFO:distributed.scheduler:Starting worker compute stream, tcp://127.0.0.1:46551\n",
            "INFO:distributed.core:Starting established connection to tcp://127.0.0.1:35108\n",
            "INFO:distributed.scheduler:Register worker addr: tcp://127.0.0.1:34921 name: 0\n",
            "INFO:distributed.scheduler:Starting worker compute stream, tcp://127.0.0.1:34921\n",
            "INFO:distributed.core:Starting established connection to tcp://127.0.0.1:35100\n",
            "INFO:distributed.scheduler:Receive client connection: Client-9c1b4dfa-4e76-11f0-80d8-0242ac1c000c\n",
            "INFO:distributed.core:Starting established connection to tcp://127.0.0.1:35122\n"
          ]
        },
        {
          "output_type": "stream",
          "name": "stdout",
          "text": [
            "Waiting for Dask workers to start...\n",
            "Dask workers ready.\n",
            "Dask Dashboard Link: http://127.0.0.1:36457/status\n"
          ]
        }
      ]
    },
    {
      "cell_type": "markdown",
      "source": [],
      "metadata": {
        "id": "Ri3ToSwHrxY4"
      }
    },
    {
      "cell_type": "code",
      "source": [
        "# --- Dataset Selection (Simple Synthetic Large Text Dataset) ---\n",
        "\n",
        "# Define the size of your dataset. Adjust for Colab Pro if needed.\n",
        "num_rows = 5 * 10**5 # 500,000 rows, adjust up for Colab Pro (e.g., 10^6)\n",
        "num_partitions = 10 # Number of Dask partitions\n",
        "\n",
        "print(f\"Generating synthetic text data with {num_rows} rows...\")\n",
        "\n",
        "# Define some \"themes\" for synthetic text\n",
        "themes = {\n",
        "    \"sports\": [\"football\", \"basketball\", \"game\", \"team\", \"win\", \"lose\", \"player\", \"coach\", \"championship\"],\n",
        "    \"technology\": [\"computer\", \"software\", \"internet\", \"AI\", \"data\", \"code\", \"network\", \"developer\", \"machine learning\"],\n",
        "    \"politics\": [\"government\", \"election\", \"policy\", \"vote\", \"president\", \"congress\", \"law\", \"debate\", \"party\"],\n",
        "    \"science\": [\"research\", \"discovery\", \"experiment\", \"theory\", \"universe\", \"physics\", \"biology\", \"chemistry\", \"study\"],\n",
        "    \"finance\": [\"stock\", \"market\", \"economy\", \"invest\", \"bank\", \"money\", \"trade\", \"profit\", \"loss\"]\n",
        "}\n",
        "all_words = list(set(word for words in themes.values() for word in words))\n",
        "\n",
        "# Function to generate a simple synthetic document\n",
        "def generate_document(themes_dict, all_words_list, doc_length=20):\n",
        "    theme_label = np.random.choice(list(themes_dict.keys()))\n",
        "    theme_words = themes_dict[theme_label]\n",
        "\n",
        "    # Mix of theme-specific words and general words\n",
        "    document_words = np.random.choice(theme_words, size=int(doc_length * 0.7), replace=True).tolist()\n",
        "    document_words.extend(np.random.choice(all_words_list, size=int(doc_length * 0.3), replace=True).tolist())\n",
        "    np.random.shuffle(document_words)\n",
        "\n",
        "    return theme_label, \" \".join(document_words)\n",
        "\n",
        "# Generate data in chunks for Dask\n",
        "data_list = []\n",
        "for i in range(num_rows):\n",
        "    label, text = generate_document(themes, all_words, doc_length=np.random.randint(15, 30))\n",
        "    data_list.append({'text': text, 'category': label})\n",
        "\n",
        "# Convert to Pandas DataFrame first, then to Dask DataFrame\n",
        "# This is often easier for synthetic data generation than direct Dask array/dataframe operations for complex types.\n",
        "# For truly large data, you would load from files (e.g., Parquet, CSV) directly with dd.read_parquet/csv\n",
        "df_pandas = pd.DataFrame(data_list)\n",
        "dask_df = dd.from_pandas(df_pandas, npartitions=num_partitions)\n",
        "\n",
        "print(f\"Dask DataFrame created with {len(dask_df.columns)} columns and {dask_df.npartitions} partitions.\")\n",
        "print(\"\\nDask DataFrame head (computed lazily to show structure):\")\n",
        "print(dask_df.head())\n",
        "print(\"\\nValue counts for 'category' (computed):\")\n",
        "print(dask_df['category'].value_counts().compute())\n",
        "\n",
        "# Separate features (X) and target (y)\n",
        "X_dask = dask_df['text']\n",
        "y_dask = dask_df['category']\n",
        "\n",
        "# Map categories to numerical labels for model training\n",
        "# This is important for classification models that expect numerical targets\n",
        "category_mapping = {label: i for i, label in enumerate(themes.keys())}\n",
        "y_dask_numeric = y_dask.map(lambda x: category_mapping[x], meta=('category', np.int8)) # Use int8 for efficiency\n",
        "\n",
        "# Define the list of classes for incremental learning\n",
        "classes_list = np.array(list(category_mapping.values()))\n",
        "print(f\"Mapped categories to numeric labels. Example: {y_dask_numeric.head()}\")\n",
        "print(f\"Classes for incremental learning: {classes_list}\")"
      ],
      "metadata": {
        "colab": {
          "base_uri": "https://localhost:8080/"
        },
        "id": "Tdd82KzKh4gF",
        "outputId": "ff9d0d2b-e7a5-42bd-9043-3f7d0425c129"
      },
      "execution_count": 7,
      "outputs": [
        {
          "output_type": "stream",
          "name": "stdout",
          "text": [
            "Generating synthetic text data with 500000 rows...\n",
            "Dask DataFrame created with 2 columns and 10 partitions.\n",
            "\n",
            "Dask DataFrame head (computed lazily to show structure):\n",
            "                                                text    category\n",
            "0  universe research universe physics experiment ...     science\n",
            "1  network economy software software internet cod...  technology\n",
            "2  research championship theory chemistry univers...     science\n",
            "3  team team team lose championship coach champio...      sports\n",
            "4  software code internet universe AI machine lea...  technology\n",
            "\n",
            "Value counts for 'category' (computed):\n"
          ]
        },
        {
          "output_type": "stream",
          "name": "stderr",
          "text": [
            "WARNING:distributed.shuffle._scheduler_plugin:Shuffle 2b03dcf69650468cd3384e7fff303e80 initialized by task ('shuffle-transfer-2b03dcf69650468cd3384e7fff303e80', 8) executed on worker tcp://127.0.0.1:34921\n",
            "WARNING:distributed.shuffle._scheduler_plugin:Shuffle 2b03dcf69650468cd3384e7fff303e80 deactivated due to stimulus 'task-finished-1750493798.383201'\n"
          ]
        },
        {
          "output_type": "stream",
          "name": "stdout",
          "text": [
            "category\n",
            "science       100137\n",
            "finance        99778\n",
            "politics      100056\n",
            "technology     99999\n",
            "sports        100030\n",
            "Name: count, dtype: int64[pyarrow]\n",
            "Mapped categories to numeric labels. Example: 0    3\n",
            "1    1\n",
            "2    3\n",
            "3    0\n",
            "4    1\n",
            "Name: category, dtype: int64\n",
            "Classes for incremental learning: [0 1 2 3 4]\n"
          ]
        }
      ]
    },
    {
      "cell_type": "markdown",
      "source": [
        "**Step 3: Data Preprocessing (Text Vectorization with Dask-ML)**"
      ],
      "metadata": {
        "id": "NQ6luIuSr9A6"
      }
    },
    {
      "cell_type": "code",
      "source": [
        "# --- Data Preprocessing using Dask (Text Vectorization) ---\n",
        "\n",
        "# Download NLTK data (punkt_tab is needed for word_tokenize)\n",
        "import nltk\n",
        "nltk.download('punkt_tab')\n",
        "\n",
        "# Text preprocessing function for tokenization, lowercasing, stop word removal, and punctuation removal\n",
        "stop_words = set(stopwords.words('english'))\n",
        "\n",
        "def preprocess_text(text):\n",
        "    if not isinstance(text, str):\n",
        "        return \"\" # Handle potential non-string entries\n",
        "    text = text.lower()\n",
        "    text = ''.join([char for char in text if char not in string.punctuation])\n",
        "    tokens = word_tokenize(text)\n",
        "    tokens = [word for word in tokens if word.isalpha() and word not in stop_words]\n",
        "    return \" \".join(tokens)\n",
        "\n",
        "print(\"\\nApplying text preprocessing (tokenization, stop word removal, punctuation removal)...\")\n",
        "# Apply the preprocessing function to the Dask Series\n",
        "# Dask's .apply is efficient for row-wise operations on Series\n",
        "X_dask_preprocessed = X_dask.apply(preprocess_text, meta=('text', 'str'))\n",
        "print(X_dask_preprocessed.head())\n",
        "\n",
        "# Use Dask-ML's HashingVectorizer for feature extraction\n",
        "print(\"\\nApplying Dask-ML HashingVectorizer for feature extraction...\")\n",
        "# HashingVectorizer is good for large text datasets as it avoids storing a large vocabulary.\n",
        "# n_features controls the size of the output vector.\n",
        "vectorizer_dask = dm_text.HashingVectorizer(n_features=2**18) # A reasonable number for text features\n",
        "\n",
        "start_time_dask_preprocess = time.time()\n",
        "X_vectorized_dask = vectorizer_dask.fit_transform(X_dask_preprocessed)\n",
        "# Note: HashingVectorizer returns a Dask Array where each block is a SciPy sparse matrix.\n",
        "# We will keep it sparse for memory efficiency, as many ML models can handle sparse input.\n",
        "end_time_dask_preprocess = time.time()\n",
        "dask_preprocess_time = end_time_dask_preprocess - start_time_dask_preprocess\n",
        "print(f\"Dask Text Preprocessing (HashingVectorizer) completed in {dask_preprocess_time:.2f} seconds.\")\n",
        "\n",
        "print(f\"\\nVectorized Dask Array (sparse) shape: {X_vectorized_dask.shape}\")\n",
        "print(f\"Target (Dask Array) shape: {y_dask_numeric.shape}\")\n",
        "\n",
        "# Optional: Inspect a block (first partition)\n",
        "print(\"\\nInspecting first block of vectorized data (computed):\")\n",
        "print(X_vectorized_dask.blocks[0].compute())"
      ],
      "metadata": {
        "colab": {
          "base_uri": "https://localhost:8080/"
        },
        "id": "8SzzeV_ukF77",
        "outputId": "ae802dd3-1b64-473b-de4c-7df7b4853f40"
      },
      "execution_count": 11,
      "outputs": [
        {
          "output_type": "stream",
          "name": "stderr",
          "text": [
            "[nltk_data] Downloading package punkt_tab to /root/nltk_data...\n",
            "[nltk_data]   Package punkt_tab is already up-to-date!\n"
          ]
        },
        {
          "output_type": "stream",
          "name": "stdout",
          "text": [
            "\n",
            "Applying text preprocessing (tokenization, stop word removal, punctuation removal)...\n",
            "0    universe research universe physics experiment ...\n",
            "1    network economy software software internet cod...\n",
            "2    research championship theory chemistry univers...\n",
            "3    team team team lose championship coach champio...\n",
            "4    software code internet universe ai machine lea...\n",
            "Name: text, dtype: object\n",
            "\n",
            "Applying Dask-ML HashingVectorizer for feature extraction...\n",
            "Dask Text Preprocessing (HashingVectorizer) completed in 0.36 seconds.\n",
            "\n",
            "Vectorized Dask Array (sparse) shape: (nan, 262144)\n",
            "Target (Dask Array) shape: (<dask_expr.expr.Scalar: expr=(Map(frame=df['category'], arg=<function <lambda> at 0x7aa56299b4c0>, meta=('category', <class 'numpy.int8'>))).size(), dtype=int64>,)\n",
            "\n",
            "Inspecting first block of vectorized data (computed):\n",
            "<Compressed Sparse Row sparse matrix of dtype 'float64'\n",
            "\twith 621701 stored elements and shape (50000, 262144)>\n",
            "  Coords\tValues\n",
            "  (0, 5202)\t-0.15249857033260467\n",
            "  (0, 15347)\t-0.15249857033260467\n",
            "  (0, 26157)\t0.15249857033260467\n",
            "  (0, 31052)\t0.15249857033260467\n",
            "  (0, 33518)\t0.30499714066520933\n",
            "  (0, 47704)\t-0.457495710997814\n",
            "  (0, 51207)\t-0.457495710997814\n",
            "  (0, 82388)\t-0.15249857033260467\n",
            "  (0, 86077)\t-0.15249857033260467\n",
            "  (0, 128170)\t-0.457495710997814\n",
            "  (0, 140884)\t-0.15249857033260467\n",
            "  (0, 188998)\t0.30499714066520933\n",
            "  (0, 256688)\t-0.15249857033260467\n",
            "  (1, 1837)\t0.12803687993289598\n",
            "  (1, 5388)\t-0.25607375986579195\n",
            "  (1, 8508)\t0.12803687993289598\n",
            "  (1, 12983)\t-0.3841106397986879\n",
            "  (1, 26157)\t0.25607375986579195\n",
            "  (1, 46803)\t0.12803687993289598\n",
            "  (1, 71794)\t0.12803687993289598\n",
            "  (1, 80646)\t0.25607375986579195\n",
            "  (1, 101542)\t0.3841106397986879\n",
            "  (1, 120506)\t-0.12803687993289598\n",
            "  (1, 133645)\t-0.3841106397986879\n",
            "  (1, 134800)\t-0.25607375986579195\n",
            "  :\t:\n",
            "  (49998, 15984)\t-0.48666426339228763\n",
            "  (49998, 31052)\t0.48666426339228763\n",
            "  (49998, 46803)\t0.16222142113076254\n",
            "  (49998, 47704)\t-0.16222142113076254\n",
            "  (49998, 57136)\t0.16222142113076254\n",
            "  (49998, 79618)\t-0.16222142113076254\n",
            "  (49998, 82384)\t0.16222142113076254\n",
            "  (49998, 178728)\t-0.16222142113076254\n",
            "  (49998, 195726)\t0.16222142113076254\n",
            "  (49998, 224430)\t0.3244428422615251\n",
            "  (49998, 256688)\t-0.16222142113076254\n",
            "  (49999, 1837)\t0.13245323570650439\n",
            "  (49999, 5388)\t-0.26490647141300877\n",
            "  (49999, 46803)\t0.13245323570650439\n",
            "  (49999, 57136)\t0.13245323570650439\n",
            "  (49999, 61418)\t0.13245323570650439\n",
            "  (49999, 80646)\t0.13245323570650439\n",
            "  (49999, 101542)\t0.13245323570650439\n",
            "  (49999, 118063)\t-0.13245323570650439\n",
            "  (49999, 133645)\t-0.13245323570650439\n",
            "  (49999, 134800)\t-0.39735970711951313\n",
            "  (49999, 159138)\t0.39735970711951313\n",
            "  (49999, 192388)\t-0.13245323570650439\n",
            "  (49999, 199813)\t-0.13245323570650439\n",
            "  (49999, 257924)\t0.6622661785325219\n"
          ]
        }
      ]
    },
    {
      "cell_type": "markdown",
      "source": [
        "**Step 4: Model Training (Dask-ML with Incremental Learning)**"
      ],
      "metadata": {
        "id": "Ye2EM_0TsIbe"
      }
    },
    {
      "cell_type": "code",
      "source": [
        "# --- Model Training with Dask-ML (Incremental SGDClassifier) ---\n",
        "\n",
        "# Compute chunk sizes for X_vectorized_dask (which is a Dask Array)\n",
        "print(\"\\nComputing chunk sizes for Dask Arrays...\")\n",
        "X_vectorized_dask = X_vectorized_dask.compute_chunk_sizes()\n",
        "\n",
        "# Convert y_dask_numeric (Dask Series) to a Dask Array with known chunks\n",
        "y_dask_numeric_array = y_dask_numeric.to_dask_array(lengths=True)\n",
        "\n",
        "\n",
        "# Split data into training and testing sets using Dask-ML's train_test_split\n",
        "print(\"\\nSplitting data into training and testing sets (Dask Arrays)...\")\n",
        "X_train_dask, X_test_dask, y_train_dask, y_test_dask = dask_train_test_split(\n",
        "    X_vectorized_dask, y_dask_numeric_array, test_size=0.2, random_state=42, convert_mixed_types=True\n",
        ")\n",
        "\n",
        "print(f\"X_train_dask shape: {X_train_dask.shape}, y_train_dask shape: {y_train_dask.shape}\")\n",
        "print(f\"X_test_dask shape: {X_test_dask.shape}, y_test_dask shape: {y_test_dask.shape}\")\n",
        "\n",
        "# Initialize Scikit-learn's SGDClassifier\n",
        "# loss='log_loss' for logistic regression, penalty='l2' for L2 regularization\n",
        "base_model = SGDClassifier(loss='log_loss', penalty='l2', random_state=42, max_iter=1000)\n",
        "\n",
        "# Wrap it with Dask-ML's Incremental meta-estimator\n",
        "# This allows the model to train on Dask Arrays by calling partial_fit on each chunk\n",
        "print(\"\\nInitializing and training Dask-ML Incremental SGDClassifier model...\")\n",
        "model_dask = dm_wrappers.Incremental(base_model)\n",
        "\n",
        "start_time_dask_train = time.time()\n",
        "# The `classes` argument is important for SGDClassifier's partial_fit\n",
        "# It needs to know all possible classes upfront.\n",
        "model_dask.fit(X_train_dask, y_train_dask, classes=classes_list)\n",
        "end_time_dask_train = time.time()\n",
        "dask_train_time = end_time_dask_train - start_time_dask_train\n",
        "print(f\"Dask-ML Model training completed in {dask_train_time:.2f} seconds.\")\n",
        "\n",
        "# Make predictions\n",
        "print(\"\\nMaking predictions on the test set (Dask-ML)...\")\n",
        "start_time_dask_predict = time.time()\n",
        "y_pred_dask = model_dask.predict(X_test_dask)\n",
        "end_time_dask_predict = time.time()\n",
        "dask_predict_time = end_time_dask_predict - start_time_dask_predict\n",
        "print(f\"Dask-ML Model prediction completed in {dask_predict_time:.2f} seconds.\")\n",
        "\n",
        "# Evaluate the model (requires computing the results)\n",
        "print(\"\\nEvaluating Dask-ML model performance...\")\n",
        "y_test_computed = y_test_dask.compute()\n",
        "y_pred_dask_computed = y_pred_dask.compute()\n",
        "\n",
        "dask_accuracy = accuracy_score(y_test_computed, y_pred_dask_computed)\n",
        "print(f\"Dask-ML Model Accuracy: {dask_accuracy:.4f}\")\n",
        "print(\"\\nClassification Report (Dask-ML):\")\n",
        "print(classification_report(y_test_computed, y_pred_dask_computed, target_names=list(themes.keys()))) # Use original labels"
      ],
      "metadata": {
        "colab": {
          "base_uri": "https://localhost:8080/"
        },
        "id": "I94kI1qhkyaQ",
        "outputId": "0f4af257-0460-4d3e-8927-8140974b8ef2"
      },
      "execution_count": 15,
      "outputs": [
        {
          "output_type": "stream",
          "name": "stdout",
          "text": [
            "\n",
            "Computing chunk sizes for Dask Arrays...\n"
          ]
        },
        {
          "output_type": "stream",
          "name": "stderr",
          "text": [
            "/usr/local/lib/python3.11/dist-packages/distributed/client.py:3371: UserWarning: Sending large graph of size 79.96 MiB.\n",
            "This may cause some slowdown.\n",
            "Consider loading the data with Dask directly\n",
            " or using futures or delayed objects to embed the data into the graph without repetition.\n",
            "See also https://docs.dask.org/en/stable/best-practices.html#load-data-with-dask for more information.\n",
            "  warnings.warn(\n"
          ]
        },
        {
          "output_type": "stream",
          "name": "stdout",
          "text": [
            "\n",
            "Splitting data into training and testing sets (Dask Arrays)...\n",
            "X_train_dask shape: (400000, 262144), y_train_dask shape: (400000,)\n",
            "X_test_dask shape: (100000, 262144), y_test_dask shape: (100000,)\n",
            "\n",
            "Initializing and training Dask-ML Incremental SGDClassifier model...\n"
          ]
        },
        {
          "output_type": "stream",
          "name": "stderr",
          "text": [
            "/usr/local/lib/python3.11/dist-packages/distributed/client.py:3371: UserWarning: Sending large graph of size 87.43 MiB.\n",
            "This may cause some slowdown.\n",
            "Consider loading the data with Dask directly\n",
            " or using futures or delayed objects to embed the data into the graph without repetition.\n",
            "See also https://docs.dask.org/en/stable/best-practices.html#load-data-with-dask for more information.\n",
            "  warnings.warn(\n",
            "WARNING:distributed.scheduler:Detected different `run_spec` for key ('getitem-map-values-1b41a7123d4f9e9b2b7e684ab93c6d59', 4) between two consecutive calls to `update_graph`. This can cause failures and deadlocks down the line. Please ensure unique key names. If you are using a standard dask collections, consider releasing all the data before resubmitting another computation. More details and help can be found at https://github.com/dask/dask/issues/9888. \n",
            "Debugging information\n",
            "---------------------\n",
            "old task state: released\n",
            "old run_spec: Alias(('getitem-map-values-1b41a7123d4f9e9b2b7e684ab93c6d59', 4)->('frompandas-getitem-map-values-1b41a7123d4f9e9b2b7e684ab93c6d59', 4))\n",
            "new run_spec: Alias(('getitem-map-values-1b41a7123d4f9e9b2b7e684ab93c6d59', 4)->('frompandas-getitem-map-values-getitem-map-values-1b41a7123d4f9e9b2b7e684ab93c6d59', 4))\n",
            "old token: ('Alias', ('getitem-map-values-1b41a7123d4f9e9b2b7e684ab93c6d59', 4), ('frompandas-getitem-map-values-1b41a7123d4f9e9b2b7e684ab93c6d59', 4))\n",
            "new token: ('Alias', ('getitem-map-values-1b41a7123d4f9e9b2b7e684ab93c6d59', 4), ('frompandas-getitem-map-values-getitem-map-values-1b41a7123d4f9e9b2b7e684ab93c6d59', 4))\n",
            "old dependencies: {('frompandas-getitem-map-values-1b41a7123d4f9e9b2b7e684ab93c6d59', 4)}\n",
            "new dependencies: {('frompandas-getitem-map-values-getitem-map-values-1b41a7123d4f9e9b2b7e684ab93c6d59', 4)}\n",
            "\n"
          ]
        },
        {
          "output_type": "stream",
          "name": "stdout",
          "text": [
            "Dask-ML Model training completed in 104.60 seconds.\n",
            "\n",
            "Making predictions on the test set (Dask-ML)...\n",
            "Dask-ML Model prediction completed in 0.02 seconds.\n",
            "\n",
            "Evaluating Dask-ML model performance...\n"
          ]
        },
        {
          "output_type": "stream",
          "name": "stderr",
          "text": [
            "/usr/local/lib/python3.11/dist-packages/distributed/client.py:3371: UserWarning: Sending large graph of size 89.98 MiB.\n",
            "This may cause some slowdown.\n",
            "Consider loading the data with Dask directly\n",
            " or using futures or delayed objects to embed the data into the graph without repetition.\n",
            "See also https://docs.dask.org/en/stable/best-practices.html#load-data-with-dask for more information.\n",
            "  warnings.warn(\n"
          ]
        },
        {
          "output_type": "stream",
          "name": "stdout",
          "text": [
            "Dask-ML Model Accuracy: 1.0000\n",
            "\n",
            "Classification Report (Dask-ML):\n",
            "              precision    recall  f1-score   support\n",
            "\n",
            "      sports       1.00      1.00      1.00     19960\n",
            "  technology       1.00      1.00      1.00     19924\n",
            "    politics       1.00      1.00      1.00     20128\n",
            "     science       1.00      1.00      1.00     20239\n",
            "     finance       1.00      1.00      1.00     19749\n",
            "\n",
            "    accuracy                           1.00    100000\n",
            "   macro avg       1.00      1.00      1.00    100000\n",
            "weighted avg       1.00      1.00      1.00    100000\n",
            "\n"
          ]
        }
      ]
    },
    {
      "cell_type": "markdown",
      "source": [
        "**Step 5: Performance Analysis (Dask vs. Traditional Scikit-learn)**\n",
        "\n",
        "For the traditional approach, we'll use a smaller Pandas DataFrame and scikit-learn's TfidfVectorizer or HashingVectorizer (for consistency) and SGDClassifier."
      ],
      "metadata": {
        "id": "QfyopEf_sPl7"
      }
    },
    {
      "cell_type": "code",
      "source": [
        "# --- Performance Analysis: Dask vs. Traditional Scikit-learn ---\n",
        "\n",
        "# Use a significantly smaller dataset for traditional processing to avoid memory issues.\n",
        "# A common practice is to cap it at a size that easily fits in Colab's RAM (e.g., 50,000 to 100,000 rows for text data).\n",
        "num_rows_traditional = min(num_rows // 5, 100000) # Capped at 100k for text data\n",
        "\n",
        "print(f\"\\n--- Traditional Scikit-learn Pipeline (Max {num_rows_traditional} rows) ---\")\n",
        "\n",
        "# Generate a smaller synthetic dataset for the traditional approach\n",
        "print(f\"Generating traditional data with {num_rows_traditional} rows...\")\n",
        "data_traditional_list = []\n",
        "for i in range(num_rows_traditional):\n",
        "    label, text = generate_document(themes, all_words, doc_length=np.random.randint(15, 30))\n",
        "    data_traditional_list.append({'text': text, 'category': label})\n",
        "\n",
        "df_traditional = pd.DataFrame(data_traditional_list)\n",
        "\n",
        "X_trad = df_traditional['text']\n",
        "y_trad = df_traditional['category']\n",
        "\n",
        "# Map categories to numerical labels for traditional pipeline\n",
        "y_trad_numeric = y_trad.map(category_mapping).astype(np.int8)\n",
        "\n",
        "# 5.1 Data Preprocessing (Traditional Pandas/Scikit-learn)\n",
        "print(\"Applying text preprocessing and HashingVectorizer for traditional pipeline...\")\n",
        "\n",
        "# Apply the same preprocessing function\n",
        "X_trad_preprocessed = X_trad.apply(preprocess_text)\n",
        "\n",
        "# Using HashingVectorizer for consistency with Dask-ML\n",
        "vectorizer_trad = HashingVectorizer(n_features=2**18) # Same number of features\n",
        "\n",
        "start_time_trad_preprocess = time.time()\n",
        "X_trad_vectorized = vectorizer_trad.fit_transform(X_trad_preprocessed)\n",
        "end_time_trad_preprocess = time.time()\n",
        "trad_preprocess_time = end_time_trad_preprocess - start_time_trad_preprocess\n",
        "print(f\"Traditional Preprocessing completed in {trad_preprocess_time:.2f} seconds.\")\n",
        "\n",
        "# 5.2 Model Training (Traditional Scikit-learn)\n",
        "print(\"Training traditional Scikit-learn SGDClassifier model...\")\n",
        "X_train_trad, X_test_trad, y_train_trad, y_test_trad = train_test_split(\n",
        "    X_trad_vectorized, y_trad_numeric, test_size=0.2, random_state=42\n",
        ")\n",
        "\n",
        "model_trad = SGDClassifier(loss='log_loss', penalty='l2', random_state=42, max_iter=1000, n_jobs=-1) # n_jobs=-1 uses all CPU cores\n",
        "start_time_trad_train = time.time()\n",
        "model_trad.fit(X_train_trad, y_train_trad)\n",
        "end_time_trad_train = time.time()\n",
        "trad_train_time = end_time_trad_train - start_time_trad_train\n",
        "print(f\"Traditional Model training completed in {trad_train_time:.2f} seconds.\")\n",
        "\n",
        "# Make predictions\n",
        "start_time_trad_predict = time.time()\n",
        "y_pred_trad = model_trad.predict(X_test_trad)\n",
        "end_time_trad_predict = time.time()\n",
        "trad_predict_time = end_time_trad_predict - start_time_trad_predict\n",
        "print(f\"Traditional Model prediction completed in {trad_predict_time:.2f} seconds.\")\n",
        "\n",
        "# Evaluate\n",
        "trad_accuracy = accuracy_score(y_test_trad, y_pred_trad)\n",
        "print(f\"Traditional Model Accuracy: {trad_accuracy:.4f}\")\n",
        "print(\"\\nClassification Report (Traditional):\")\n",
        "print(classification_report(y_test_trad, y_pred_trad, target_names=list(themes.keys())))\n",
        "\n",
        "# --- Summary of Performance ---\n",
        "print(\"\\n--- Performance Comparison Summary ---\")\n",
        "print(f\"Dask Dataset Size: {num_rows} rows\")\n",
        "print(f\"Traditional Dataset Size: {num_rows_traditional} rows\")\n",
        "print(\"-\" * 30)\n",
        "print(f\"Dask Preprocessing Time: {dask_preprocess_time:.2f} seconds\")\n",
        "print(f\"Dask Training Time: {dask_train_time:.2f} seconds\")\n",
        "print(f\"Dask Prediction Time: {dask_predict_time:.2f} seconds\")\n",
        "print(f\"Dask Accuracy: {dask_accuracy:.4f}\")\n",
        "print(\"-\" * 30)\n",
        "print(f\"Traditional Preprocessing Time: {trad_preprocess_time:.2f} seconds\")\n",
        "print(f\"Traditional Training Time: {trad_train_time:.2f} seconds\")\n",
        "print(f\"Traditional Prediction Time: {trad_predict_time:.2f} seconds\")\n",
        "print(f\"Traditional Accuracy: {trad_accuracy:.4f}\")"
      ],
      "metadata": {
        "colab": {
          "base_uri": "https://localhost:8080/"
        },
        "id": "EYZ0xSE9nkzu",
        "outputId": "91cff600-fc99-4ad6-fdce-8d8e751d782f"
      },
      "execution_count": 17,
      "outputs": [
        {
          "output_type": "stream",
          "name": "stdout",
          "text": [
            "\n",
            "--- Traditional Scikit-learn Pipeline (Max 100000 rows) ---\n",
            "Generating traditional data with 100000 rows...\n",
            "Applying text preprocessing and HashingVectorizer for traditional pipeline...\n",
            "Traditional Preprocessing completed in 2.39 seconds.\n",
            "Training traditional Scikit-learn SGDClassifier model...\n",
            "Traditional Model training completed in 0.78 seconds.\n",
            "Traditional Model prediction completed in 0.01 seconds.\n",
            "Traditional Model Accuracy: 1.0000\n",
            "\n",
            "Classification Report (Traditional):\n",
            "              precision    recall  f1-score   support\n",
            "\n",
            "      sports       1.00      1.00      1.00      4037\n",
            "  technology       1.00      1.00      1.00      3898\n",
            "    politics       1.00      1.00      1.00      3976\n",
            "     science       1.00      1.00      1.00      4114\n",
            "     finance       1.00      1.00      1.00      3975\n",
            "\n",
            "    accuracy                           1.00     20000\n",
            "   macro avg       1.00      1.00      1.00     20000\n",
            "weighted avg       1.00      1.00      1.00     20000\n",
            "\n",
            "\n",
            "--- Performance Comparison Summary ---\n",
            "Dask Dataset Size: 500000 rows\n",
            "Traditional Dataset Size: 100000 rows\n",
            "------------------------------\n",
            "Dask Preprocessing Time: 0.36 seconds\n",
            "Dask Training Time: 104.60 seconds\n",
            "Dask Prediction Time: 0.02 seconds\n",
            "Dask Accuracy: 1.0000\n",
            "------------------------------\n",
            "Traditional Preprocessing Time: 2.39 seconds\n",
            "Traditional Training Time: 0.78 seconds\n",
            "Traditional Prediction Time: 0.01 seconds\n",
            "Traditional Accuracy: 1.0000\n"
          ]
        }
      ]
    },
    {
      "cell_type": "code",
      "source": [
        "# --- Visualization of Performance ---\n",
        "\n",
        "labels = ['Dask-ML', 'Traditional (Scikit-learn)']\n",
        "# For Dask, preprocessing is explicitly measured.\n",
        "# For traditional, we have separate preprocessing time.\n",
        "# Let's show total pipeline time (preprocess + train) for both for a fairer comparison of \"pipeline time\"\n",
        "total_dask_pipeline_time = dask_preprocess_time + dask_train_time\n",
        "total_trad_pipeline_time = trad_preprocess_time + trad_train_time\n",
        "\n",
        "pipeline_times = [total_dask_pipeline_time, total_trad_pipeline_time]\n",
        "predict_times = [dask_predict_time, trad_predict_time]\n",
        "accuracies = [dask_accuracy, trad_accuracy]\n",
        "\n",
        "x = np.arange(len(labels))\n",
        "width = 0.35\n",
        "\n",
        "fig, ax = plt.subplots(1, 2, figsize=(18, 8)) # Increased figure size for better readability\n",
        "\n",
        "# Plotting Total Pipeline (Preprocessing + Training) and Prediction Times\n",
        "rects1 = ax[0].bar(x - width/2, pipeline_times, width, label='Total Pipeline Time (Prep + Train)', color='skyblue')\n",
        "rects2 = ax[0].bar(x + width/2, predict_times, width, label='Prediction Time', color='lightcoral')\n",
        "\n",
        "ax[0].set_ylabel('Time (seconds)', fontsize=12)\n",
        "ax[0].set_title('ML Pipeline Times: Dask vs. Traditional', fontsize=14)\n",
        "ax[0].set_xticks(x)\n",
        "ax[0].set_xticklabels(labels, fontsize=11)\n",
        "ax[0].legend(fontsize=10)\n",
        "ax[0].grid(axis='y', linestyle='--', alpha=0.7)\n",
        "\n",
        "# Helper function to add values on top of bars\n",
        "def autolabel(rects, ax_obj):\n",
        "    for rect in rects:\n",
        "        height = rect.get_height()\n",
        "        ax_obj.annotate(f'{height:.2f}s',\n",
        "                    xy=(rect.get_x() + rect.get_width() / 2, height),\n",
        "                    xytext=(0, 5),\n",
        "                    textcoords=\"offset points\",\n",
        "                    ha='center', va='bottom', fontsize=10)\n",
        "\n",
        "autolabel(rects1, ax[0])\n",
        "autolabel(rects2, ax[0])\n",
        "\n",
        "# Plotting Accuracy\n",
        "ax[1].bar(labels, accuracies, color=['mediumseagreen', 'orange'])\n",
        "ax[1].set_ylabel('Accuracy', fontsize=12)\n",
        "ax[1].set_title('Model Accuracy: Dask vs. Traditional', fontsize=14)\n",
        "ax[1].set_ylim(0.5, 1) # Accuracy is between 0 and 1, start higher for clarity if accuracies are high\n",
        "ax[1].grid(axis='y', linestyle='--', alpha=0.7)\n",
        "\n",
        "# Add accuracy values on top of bars\n",
        "for i, v in enumerate(accuracies):\n",
        "    ax[1].text(i, v + 0.02, f'{v:.4f}', ha='center', va='bottom', fontsize=10)\n",
        "\n",
        "plt.tight_layout()\n",
        "plt.show()\n",
        "\n",
        "# Clean up Dask cluster resources\n",
        "print(\"\\nClosing Dask cluster...\")\n",
        "client.close()\n",
        "cluster.close()\n",
        "print(\"Dask cluster closed.\")"
      ],
      "metadata": {
        "colab": {
          "base_uri": "https://localhost:8080/",
          "height": 961
        },
        "id": "GhQD0v6TpFAh",
        "outputId": "c6df0a5f-9f1a-4a1f-ed83-a25717ecd1f5"
      },
      "execution_count": 18,
      "outputs": [
        {
          "output_type": "display_data",
          "data": {
            "text/plain": [
              "<Figure size 1800x800 with 2 Axes>"
            ],
            "image/png": "[encoded data removed]"
          },
          "metadata": {}
        },
        {
          "output_type": "stream",
          "name": "stderr",
          "text": [
            "INFO:distributed.scheduler:Remove client Client-9c1b4dfa-4e76-11f0-80d8-0242ac1c000c\n",
            "INFO:distributed.core:Received 'close-stream' from tcp://127.0.0.1:35122; closing.\n",
            "INFO:distributed.scheduler:Remove client Client-9c1b4dfa-4e76-11f0-80d8-0242ac1c000c\n",
            "INFO:distributed.scheduler:Close client connection: Client-9c1b4dfa-4e76-11f0-80d8-0242ac1c000c\n",
            "INFO:distributed.scheduler:Retire worker addresses (stimulus_id='retire-workers-1750495164.6852546') (0, 1)\n",
            "INFO:distributed.nanny:Closing Nanny at 'tcp://127.0.0.1:39753'. Reason: nanny-close\n",
            "INFO:distributed.nanny:Nanny asking worker to close. Reason: nanny-close\n",
            "INFO:distributed.nanny:Closing Nanny at 'tcp://127.0.0.1:43187'. Reason: nanny-close\n",
            "INFO:distributed.nanny:Nanny asking worker to close. Reason: nanny-close\n",
            "INFO:distributed.core:Received 'close-stream' from tcp://127.0.0.1:35100; closing.\n",
            "INFO:distributed.scheduler:Remove worker addr: tcp://127.0.0.1:34921 name: 0 (stimulus_id='handle-worker-cleanup-1750495164.7153785')\n",
            "INFO:distributed.core:Received 'close-stream' from tcp://127.0.0.1:35108; closing.\n",
            "INFO:distributed.scheduler:Remove worker addr: tcp://127.0.0.1:46551 name: 1 (stimulus_id='handle-worker-cleanup-1750495164.736028')\n",
            "INFO:distributed.scheduler:Lost all workers\n"
          ]
        },
        {
          "output_type": "stream",
          "name": "stdout",
          "text": [
            "\n",
            "Closing Dask cluster...\n"
          ]
        },
        {
          "output_type": "stream",
          "name": "stderr",
          "text": [
            "INFO:distributed.nanny:Nanny at 'tcp://127.0.0.1:43187' closed.\n",
            "INFO:distributed.nanny:Nanny at 'tcp://127.0.0.1:39753' closed.\n",
            "INFO:distributed.scheduler:Closing scheduler. Reason: unknown\n",
            "INFO:distributed.scheduler:Scheduler closing all comms\n"
          ]
        },
        {
          "output_type": "stream",
          "name": "stdout",
          "text": [
            "Dask cluster closed.\n"
          ]
        }
      ]
    }
  ]
}